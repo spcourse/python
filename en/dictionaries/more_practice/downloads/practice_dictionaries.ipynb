{
 "cells": [
  {
   "cell_type": "markdown",
   "id": "05d8d592",
   "metadata": {},
   "source": [
    "# Dictionary practice \n",
    "\n",
    "Dictionaries are a fundamental data structure in Python that allow you to store and retrieve data using key-value pairs. They are incredibly powerful and versatile, and are widely used in a variety of programming applications.\n",
    "\n",
    "Learning how to use dictionaries is important because they allow you to represent complex relationships and data structures in a simple and intuitive way. Dictionaries are also very efficient for certain operations, such as looking up the value associated with a given key. They have a time complexity of O(1) for these operations, which means that they are very fast even for large datasets.\n",
    "\n",
    "In this set of exercises, you will practice using dictionaries in Python, and get a quick overview of the different ways in which they can be used to solve a variety of programming problems.\n",
    "\n",
    "## Counting using a list\n",
    "\n",
    "In the code below, a typical example of a common programming task is given. The function `count_occurrences` counts the occurrences of each bird species in a given `bird_list`, and returns a list of lists where each sub-list contains two elements: the bird species, and its corresponding count."
   ]
  },
  {
   "cell_type": "code",
   "execution_count": null,
   "id": "e9e37bab",
   "metadata": {},
   "outputs": [],
   "source": [
    "spotted_birds = ['Goose', 'Duck', 'Jaeger', 'Goose', 'Duck', 'Penguin']\n",
    "\n",
    "def count_occurences(bird_list):\n",
    "    bird_counts = []\n",
    "    \n",
    "    for bird in bird_list:\n",
    "        found = False\n",
    "        \n",
    "        # If the bird occured earlier in the list, we should add it to that count\n",
    "        for entry in bird_counts:\n",
    "            if entry[0] == bird:\n",
    "                # This bird was seen before, update the count\n",
    "                entry[1] += 1\n",
    "                found = True\n",
    "        \n",
    "        # If the bird doesn't exist in bird_counts, we should add it with count = 1\n",
    "        if not found:\n",
    "            bird_counts.append([bird, 1])\n",
    "            \n",
    "    return bird_counts\n",
    "\n",
    "print(count_occurences(spotted_birds))"
   ]
  },
  {
   "cell_type": "markdown",
   "id": "1ecfbeb7",
   "metadata": {},
   "source": [
    "The current implementation of this function iterates through `bird_list`, and for each `bird`, it searches through the entire `bird_counts` list to see whether this bird has already been counted before. If the bird is found in `bird_counts`, its count is incremented. If the bird is not found, a new sub-list is appended to bird_counts with a count of 1.\n",
    "\n",
    "This implementation is impractical because as the `bird_list` gets larger, and the number of different types of birds increases, the search through `bird_counts` becomes increasingly time-consuming. The nested loops in this implementation result in a time complexity of `O(n^2)`, which could be very slow for large inputs.\n",
    "\n",
    "A better solution would be to use a dictionary to store the bird counts instead of a list of lists. This would allow for constant-time access to each bird count, regardless of the size of the input `bird_list`. This implementation has a time complexity of `O(n)`, which is much more efficient\n",
    "than the previous implementation."
   ]
  },
  {
   "cell_type": "markdown",
   "id": "1b58c0c3",
   "metadata": {},
   "source": [
    "## Counting using a dictionary\n",
    "\n",
    "Write a new version of `count_occurences` that counts the occurrences of each bird species in a given `bird_list` and returns a dictionary. This dictionary should have different types of birds as its keys, and the amount of times this bird occured in `bird_list` as its values.\n",
    "\n",
    "When applied to the example above, your code should return:\n",
    "\n",
    "    {'Goose': 2, 'Duck': 2, 'Jaeger': 1, 'Penguin': 1}"
   ]
  },
  {
   "cell_type": "code",
   "execution_count": null,
   "id": "608a576a",
   "metadata": {},
   "outputs": [],
   "source": [
    "# YOUR CODE HERE\n",
    "\n",
    "counted_birds = count_occurences(spotted_birds)\n",
    "print(counted_birds)"
   ]
  },
  {
   "cell_type": "markdown",
   "id": "11e83dfb",
   "metadata": {},
   "source": [
    "## Looping over values\n",
    "\n",
    "A _balanced colour_ is one whose red, green, and blue values add up to `1.0`. Write a function `is_balanced` that takes a dictionary with the keys `R`, `G`, and `B` as input and that returns `True` if they represent a balanced colour.\n",
    "\n",
    "**Hint:** use the dictionary method `.values()` to get a list of all the values in the dictionary!"
   ]
  },
  {
   "cell_type": "code",
   "execution_count": null,
   "id": "c7205d1f",
   "metadata": {},
   "outputs": [],
   "source": [
    "colour_balanced = {'R': 0.2, 'G': 0.3, 'B': 0.5}\n",
    "colour_unbalanced = {'R': 0.1, 'G': 0.2, 'B': 0.3}\n",
    "\n",
    "# YOUR CODE HERE\n",
    "\n",
    "print(is_balanced(colour_balanced))\n",
    "print(is_balanced(colour_unbalanced))"
   ]
  },
  {
   "cell_type": "markdown",
   "id": "a5af31f2",
   "metadata": {},
   "source": [
    "## Counting values using dictionaries\n",
    "\n",
    "The keys in a dictionary are guaranteed to be unique, but the values are not. Write a function `count_values` that takes a single dictionary as an argument and returns the number of distinct values it contains.\n",
    "\n",
    "For the input:\n",
    "\n",
    "    {\n",
    "        'Cheese': 'Yellow', \n",
    "        'Cab': 'Yellow', \n",
    "        'Firetruck': 'Red', \n",
    "        'Leaf': 'Green', \n",
    "        'Grass': 'Green'\n",
    "    }\n",
    "    \n",
    "Your code should return:\n",
    "\n",
    "    {'Yellow': 2, 'Red': 1, 'Green': 2}"
   ]
  },
  {
   "cell_type": "code",
   "execution_count": null,
   "id": "67b549a7",
   "metadata": {},
   "outputs": [],
   "source": [
    "item_colours = {\n",
    "    'Cheese': 'Yellow',\n",
    "    'Cab': 'Yellow',\n",
    "    'Firetruck': 'Red',\n",
    "    'Leaf': 'Green',\n",
    "    'Grass': 'Green'\n",
    "}\n",
    "\n",
    "# YOUR CODE HERE\n",
    "\n",
    "print(count_values(item_colours))"
   ]
  },
  {
   "cell_type": "markdown",
   "id": "d144e719",
   "metadata": {},
   "source": [
    "## Looping over items\n",
    "\n",
    "Now, write a function `list_duplicates` that takes a dictionary as an argument and returns the number of values that appear two or more times. _Use the function `count_values` from the previous exercise to get the counts for each value. Use the dictionary method `.items()` to loop over both the keys and the values of the dictionary at the same time._\n",
    "\n",
    "When your code is applied to the dictionary `item_colours` provided in the previous exercise, it should output: `['Yellow', 'Green']`"
   ]
  },
  {
   "cell_type": "code",
   "execution_count": null,
   "id": "5e04fd20",
   "metadata": {},
   "outputs": [],
   "source": [
    "# YOUR CODE HERE\n",
    "\n",
    "print(list_duplicates(item_colours))"
   ]
  },
  {
   "cell_type": "markdown",
   "id": "eb540dd1",
   "metadata": {},
   "source": [
    "## Complex data analysis\n",
    "\n",
    "Write a function `dict_intersect` that takes two dictionaries as arguments and returns a dictionary that contains only the key-value combinations found in _both_ of the original dictionaries. \n",
    "\n",
    "For the inputs:\n",
    "\n",
    "    {\"apple\": \"red\", \"banana\": \"yellow\", \"kiwi\": \"green\"}\n",
    "    {\"apple\": \"red\", \"grape\": \"purple\", \"kiwi\": \"brown\"}\n",
    "    \n",
    "Your code should output:\n",
    "\n",
    "    {'apple': 'red'}"
   ]
  },
  {
   "cell_type": "code",
   "execution_count": null,
   "id": "66695d49",
   "metadata": {},
   "outputs": [],
   "source": [
    "# YOUR CODE HERE\n",
    "\n",
    "dict1 = {\"apple\": \"red\", \"banana\": \"yellow\", \"kiwi\": \"green\"}\n",
    "dict2 = {\"apple\": \"red\", \"grape\": \"purple\", \"kiwi\": \"brown\"}\n",
    "print(dict_intersect(dict1, dict2))"
   ]
  },
  {
   "cell_type": "markdown",
   "id": "905c1d00",
   "metadata": {},
   "source": [
    "## Dictionaries as databases\n",
    "\n",
    "Programmers sometimes use a dictionary of dictionaries as a simple database. For example, to keep track of information about famous scientists, you might have a dictionary where the keys are string and the values are dictionaries like in the cell below.\n",
    "\n",
    "Write a function called `db_headings` that returns the set of keys used in any of the inner dictionaries. In this example, the function should return the set `{'forename', 'died', 'author', 'born', 'notes', 'surname'}`. (_Remember that in sets and dictionaries, order does not matter_)\n",
    "\n",
    "**Hint:** use the dictionary method `.keys()` to get a list of all the keys in a dictionary!"
   ]
  },
  {
   "cell_type": "code",
   "execution_count": null,
   "id": "2e058f8a",
   "metadata": {},
   "outputs": [],
   "source": [
    "database = {\n",
    "    'jgoodall': {\n",
    "        'surname': 'Goodall',\n",
    "        'forename': 'Jane',\n",
    "        'born': 1934,\n",
    "        'died': None,\n",
    "        'notes': 'Primate researcher',\n",
    "        'author': ['In the Shadow of Man', 'The Chimpanzees of Gombe']\n",
    "    },\n",
    "    'rfranklin': {\n",
    "        'surname': 'Franklin',\n",
    "        'forename': 'Rosalind',\n",
    "        'born': 1920,\n",
    "        'died': 1957,\n",
    "        'notes': 'Contributed to the discovery of DNA'\n",
    "    },\n",
    "    'rcarson': {\n",
    "        'surname': 'Carson',\n",
    "        'forename': 'Rachel',\n",
    "        'born': 1907,\n",
    "        'died': 1964,\n",
    "        'notes': 'Raised awareness of effects of DDT',\n",
    "        'author': ['Silent Spring'] \n",
    "    }\n",
    "}\n",
    "\n",
    "# YOUR CODE HERE\n",
    "\n",
    "print(db_headings(database))"
   ]
  },
  {
   "cell_type": "markdown",
   "id": "a3639924",
   "metadata": {},
   "source": [
    "Write another function called `db_consistent` that takes a dictionary of dictionaries in the format described in the previous exercise. The function should return `True` if and only if every one of the inner dictionaries has exactly the same keys. _Use the function `db_headings` to get a set of all headings that occur in the dataset._\n",
    "\n",
    "For the example above, the function should return `False`, since Rosalind Franklin's entry does not contain the `'author'` key."
   ]
  },
  {
   "cell_type": "code",
   "execution_count": null,
   "id": "01d589c6",
   "metadata": {},
   "outputs": [],
   "source": [
    "# YOUR CODE HERE\n",
    "\n",
    "print(db_consistent(database))"
   ]
  }
 ],
 "metadata": {
  "kernelspec": {
   "display_name": "Python 3 (ipykernel)",
   "language": "python",
   "name": "python3"
  },
  "language_info": {
   "codemirror_mode": {
    "name": "ipython",
    "version": 3
   },
   "file_extension": ".py",
   "mimetype": "text/x-python",
   "name": "python",
   "nbconvert_exporter": "python",
   "pygments_lexer": "ipython3",
   "version": "3.9.15"
  }
 },
 "nbformat": 4,
 "nbformat_minor": 5
}
